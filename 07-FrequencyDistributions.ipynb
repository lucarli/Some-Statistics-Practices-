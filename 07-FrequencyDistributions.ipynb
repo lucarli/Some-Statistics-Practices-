{
 "cells": [
  {
   "cell_type": "markdown",
   "metadata": {},
   "source": [
    "# Frequency distributions\n",
    "\n",
    "Luciano Andrade"
   ]
  },
  {
   "cell_type": "markdown",
   "metadata": {},
   "source": [
    "The instructor collected all students' grades in the final course assessment. \n",
    "The instructor would like to tabulate the data to extract insights and understand how the data is organized. \n",
    "This way, one can create a frequency distribution to help the instructor."
   ]
  },
  {
   "cell_type": "code",
   "execution_count": 1,
   "metadata": {},
   "outputs": [],
   "source": [
    "# Imports\n",
    "import pandas as pd"
   ]
  },
  {
   "cell_type": "code",
   "execution_count": 2,
   "metadata": {},
   "outputs": [],
   "source": [
    "# List of student grades on the course final exam\n",
    "students_grades = [92, 81, 100, 92, 71, 73, 100, 92, 84, 100, 73, 92, 73, 84, 92, 92, 92, 84, 73, 100]"
   ]
  },
  {
   "cell_type": "code",
   "execution_count": 3,
   "metadata": {},
   "outputs": [
    {
     "data": {
      "text/plain": [
       "20"
      ]
     },
     "execution_count": 3,
     "metadata": {},
     "output_type": "execute_result"
    }
   ],
   "source": [
    "len(students_grades)"
   ]
  },
  {
   "cell_type": "markdown",
   "metadata": {},
   "source": [
    "## Solution with Series in Pandas"
   ]
  },
  {
   "cell_type": "code",
   "execution_count": 4,
   "metadata": {},
   "outputs": [],
   "source": [
    "# Let's create a series with grades and frequencies (counts per grade)\n",
    "df1 = pd.Series(students_grades).value_counts().reset_index().sort_values('index').reset_index(drop = True)"
   ]
  },
  {
   "cell_type": "code",
   "execution_count": 5,
   "metadata": {},
   "outputs": [
    {
     "data": {
      "text/plain": [
       "pandas.core.frame.DataFrame"
      ]
     },
     "execution_count": 5,
     "metadata": {},
     "output_type": "execute_result"
    }
   ],
   "source": [
    "type(df1)"
   ]
  },
  {
   "cell_type": "code",
   "execution_count": 6,
   "metadata": {},
   "outputs": [],
   "source": [
    "# Change column names\n",
    "df1.columns = ['Grade', 'Frequency']"
   ]
  },
  {
   "cell_type": "code",
   "execution_count": 7,
   "metadata": {},
   "outputs": [
    {
     "name": "stdout",
     "output_type": "stream",
     "text": [
      "   Grade  Frequency\n",
      "0     71          1\n",
      "1     73          4\n",
      "2     81          1\n",
      "3     84          3\n",
      "4     92          7\n",
      "5    100          4\n"
     ]
    }
   ],
   "source": [
    "print(df1)"
   ]
  },
  {
   "cell_type": "code",
   "execution_count": 8,
   "metadata": {},
   "outputs": [
    {
     "name": "stdout",
     "output_type": "stream",
     "text": [
      "              Grade  Frequency\n",
      "0   (70.97, 80.667]          5\n",
      "1  (80.667, 90.333]          4\n",
      "2   (90.333, 100.0]         11\n"
     ]
    }
   ],
   "source": [
    "# Let's use a series with notes and frequencies, changing the number of bins.\n",
    "df1 = pd.Series(students_grades).value_counts(bins=3).reset_index().sort_values('index').reset_index(drop=True)\n",
    "df1.columns = ['Grade', 'Frequency']\n",
    "print(df1)"
   ]
  },
  {
   "cell_type": "markdown",
   "metadata": {},
   "source": [
    "## Let's do the solution with Dataframes in Pandas."
   ]
  },
  {
   "cell_type": "markdown",
   "metadata": {},
   "source": [
    "### Simple or Absolute Frequency Distribution - fi"
   ]
  },
  {
   "cell_type": "markdown",
   "metadata": {},
   "source": [
    "These values represent the number of data for each bin (class). The sum of the simple frequencies equals the total number of data.\n"
   ]
  },
  {
   "cell_type": "code",
   "execution_count": 9,
   "metadata": {},
   "outputs": [
    {
     "name": "stdout",
     "output_type": "stream",
     "text": [
      "       fi\n",
      "Grade    \n",
      "71      1\n",
      "73      4\n",
      "81      1\n",
      "84      3\n",
      "92      7\n",
      "100     4\n"
     ]
    }
   ],
   "source": [
    "df2 = pd.value_counts(students_grades).to_frame(name = 'fi').rename_axis('Grade').sort_index()\n",
    "print(df2)"
   ]
  },
  {
   "cell_type": "markdown",
   "metadata": {},
   "source": [
    "### Simple Relative Frequency Distribution - fri"
   ]
  },
  {
   "cell_type": "markdown",
   "metadata": {},
   "source": [
    "It allows you to view the division between Simple and Total Frequencies."
   ]
  },
  {
   "cell_type": "code",
   "execution_count": 10,
   "metadata": {},
   "outputs": [
    {
     "name": "stdout",
     "output_type": "stream",
     "text": [
      "       fi   fri\n",
      "Grade          \n",
      "71      1  0.05\n",
      "73      4  0.20\n",
      "81      1  0.05\n",
      "84      3  0.15\n",
      "92      7  0.35\n",
      "100     4  0.20\n"
     ]
    }
   ],
   "source": [
    "df2['fri'] = pd.value_counts(students_grades) / len(students_grades)\n",
    "print(df2)"
   ]
  },
  {
   "cell_type": "markdown",
   "metadata": {},
   "source": [
    "### Accumulated Frequency Distribution - Fi"
   ]
  },
  {
   "cell_type": "markdown",
   "metadata": {},
   "source": [
    "It allows viewing the total Frequencies of all values lower than the upper limit of the range of a given class."
   ]
  },
  {
   "cell_type": "code",
   "execution_count": 11,
   "metadata": {},
   "outputs": [
    {
     "name": "stdout",
     "output_type": "stream",
     "text": [
      "       fi   fri  Fi\n",
      "Grade              \n",
      "71      1  0.05   1\n",
      "73      4  0.20   5\n",
      "81      1  0.05   6\n",
      "84      3  0.15   9\n",
      "92      7  0.35  16\n",
      "100     4  0.20  20\n"
     ]
    }
   ],
   "source": [
    "df2['Fi'] = df2.fi.cumsum()\n",
    "print(df2)"
   ]
  },
  {
   "cell_type": "markdown",
   "metadata": {},
   "source": [
    "### Accumulated Relative Frequency Distribution - Fri"
   ]
  },
  {
   "cell_type": "markdown",
   "metadata": {},
   "source": [
    "It allows you to view the cumulative frequency of the class, divided by the total frequency of the distribution."
   ]
  },
  {
   "cell_type": "code",
   "execution_count": 12,
   "metadata": {},
   "outputs": [
    {
     "name": "stdout",
     "output_type": "stream",
     "text": [
      "       fi   fri  Fi   Fri\n",
      "Grade                    \n",
      "71      1  0.05   1  0.05\n",
      "73      4  0.20   5  0.25\n",
      "81      1  0.05   6  0.30\n",
      "84      3  0.15   9  0.45\n",
      "92      7  0.35  16  0.80\n",
      "100     4  0.20  20  1.00\n"
     ]
    }
   ],
   "source": [
    "df2['Fri'] = df2.fi.cumsum() / len(students_grades)\n",
    "print(df2)"
   ]
  }
 ],
 "metadata": {
  "anaconda-cloud": {},
  "kernelspec": {
   "display_name": "Python 3 (ipykernel)",
   "language": "python",
   "name": "python3"
  },
  "language_info": {
   "codemirror_mode": {
    "name": "ipython",
    "version": 3
   },
   "file_extension": ".py",
   "mimetype": "text/x-python",
   "name": "python",
   "nbconvert_exporter": "python",
   "pygments_lexer": "ipython3",
   "version": "3.10.1"
  }
 },
 "nbformat": 4,
 "nbformat_minor": 1
}
