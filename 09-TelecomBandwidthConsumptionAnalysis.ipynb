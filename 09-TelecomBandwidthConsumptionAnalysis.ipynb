{
 "cells": [
  {
   "cell_type": "markdown",
   "metadata": {},
   "source": [
    "# Telecom Bandwidth Consumption Analysis\n",
    "\n",
    "## Author: Luciano Andrade"
   ]
  },
  {
   "cell_type": "markdown",
   "metadata": {},
   "source": [
    "An internet provider offers different types of access plans with different bandwidths. The company then upgraded its infrastructure and wanted to validate some assumptions about customers' bandwidth consumption. The company had data on average bandwidth consumption before the upgrade and recorded consumption in the month before the upgrade, the first month, and the second month after the upgrade. The recorded data also has some customer characteristics. The business sector formulated some business questions, and now we will answer them through four hypothesis tests."
   ]
  },
  {
   "cell_type": "markdown",
   "metadata": {},
   "source": [
    "Let's check some information about the data."
   ]
  },
  {
   "cell_type": "code",
   "execution_count": 1,
   "metadata": {
    "_cell_guid": "79c7e3d0-c299-4dcb-8224-4455121ee9b0",
    "_uuid": "d629ff2d2480ee46fbb7e2d37f6b5fab8052498a"
   },
   "outputs": [],
   "source": [
    "# Imports\n",
    "import pandas as pd\n",
    "import numpy as np\n",
    "import scipy.stats as stats"
   ]
  },
  {
   "cell_type": "code",
   "execution_count": 2,
   "metadata": {
    "_cell_guid": "",
    "_uuid": ""
   },
   "outputs": [],
   "source": [
    "# loading the data\n",
    "df = pd.read_csv(r\"TelelecomDataset.csv\")"
   ]
  },
  {
   "cell_type": "code",
   "execution_count": 3,
   "metadata": {},
   "outputs": [
    {
     "data": {
      "text/plain": [
       "(200, 10)"
      ]
     },
     "execution_count": 3,
     "metadata": {},
     "output_type": "execute_result"
    }
   ],
   "source": [
    "#Return a tuple representing the dimensionality of the DataFrame.\n",
    "df.shape"
   ]
  },
  {
   "cell_type": "code",
   "execution_count": 4,
   "metadata": {},
   "outputs": [
    {
     "data": {
      "text/html": [
       "<div>\n",
       "<style scoped>\n",
       "    .dataframe tbody tr th:only-of-type {\n",
       "        vertical-align: middle;\n",
       "    }\n",
       "\n",
       "    .dataframe tbody tr th {\n",
       "        vertical-align: top;\n",
       "    }\n",
       "\n",
       "    .dataframe thead th {\n",
       "        text-align: right;\n",
       "    }\n",
       "</style>\n",
       "<table border=\"1\" class=\"dataframe\">\n",
       "  <thead>\n",
       "    <tr style=\"text-align: right;\">\n",
       "      <th></th>\n",
       "      <th>client_id</th>\n",
       "      <th>gender</th>\n",
       "      <th>service_channel</th>\n",
       "      <th>region</th>\n",
       "      <th>marital_status</th>\n",
       "      <th>segment</th>\n",
       "      <th>average_monthly_consumption_before_upgrade</th>\n",
       "      <th>average_consumption_month_before_the_upgrade</th>\n",
       "      <th>average_consumption_first_month_after_upgrade</th>\n",
       "      <th>average_consumption_second_month_after_upgrade</th>\n",
       "    </tr>\n",
       "  </thead>\n",
       "  <tbody>\n",
       "    <tr>\n",
       "      <th>0</th>\n",
       "      <td>70</td>\n",
       "      <td>0</td>\n",
       "      <td>4</td>\n",
       "      <td>1</td>\n",
       "      <td>1</td>\n",
       "      <td>1</td>\n",
       "      <td>57</td>\n",
       "      <td>49.2</td>\n",
       "      <td>52</td>\n",
       "      <td>57.2</td>\n",
       "    </tr>\n",
       "    <tr>\n",
       "      <th>1</th>\n",
       "      <td>121</td>\n",
       "      <td>1</td>\n",
       "      <td>4</td>\n",
       "      <td>2</td>\n",
       "      <td>1</td>\n",
       "      <td>3</td>\n",
       "      <td>68</td>\n",
       "      <td>63.6</td>\n",
       "      <td>59</td>\n",
       "      <td>64.9</td>\n",
       "    </tr>\n",
       "    <tr>\n",
       "      <th>2</th>\n",
       "      <td>86</td>\n",
       "      <td>0</td>\n",
       "      <td>4</td>\n",
       "      <td>3</td>\n",
       "      <td>1</td>\n",
       "      <td>1</td>\n",
       "      <td>44</td>\n",
       "      <td>64.8</td>\n",
       "      <td>33</td>\n",
       "      <td>36.3</td>\n",
       "    </tr>\n",
       "    <tr>\n",
       "      <th>3</th>\n",
       "      <td>141</td>\n",
       "      <td>0</td>\n",
       "      <td>4</td>\n",
       "      <td>3</td>\n",
       "      <td>1</td>\n",
       "      <td>3</td>\n",
       "      <td>63</td>\n",
       "      <td>56.4</td>\n",
       "      <td>44</td>\n",
       "      <td>48.4</td>\n",
       "    </tr>\n",
       "    <tr>\n",
       "      <th>4</th>\n",
       "      <td>172</td>\n",
       "      <td>0</td>\n",
       "      <td>4</td>\n",
       "      <td>2</td>\n",
       "      <td>1</td>\n",
       "      <td>2</td>\n",
       "      <td>47</td>\n",
       "      <td>68.4</td>\n",
       "      <td>52</td>\n",
       "      <td>57.2</td>\n",
       "    </tr>\n",
       "  </tbody>\n",
       "</table>\n",
       "</div>"
      ],
      "text/plain": [
       "   client_id  gender  service_channel  region  marital_status  segment  \\\n",
       "0         70       0                4       1               1        1   \n",
       "1        121       1                4       2               1        3   \n",
       "2         86       0                4       3               1        1   \n",
       "3        141       0                4       3               1        3   \n",
       "4        172       0                4       2               1        2   \n",
       "\n",
       "   average_monthly_consumption_before_upgrade  \\\n",
       "0                                          57   \n",
       "1                                          68   \n",
       "2                                          44   \n",
       "3                                          63   \n",
       "4                                          47   \n",
       "\n",
       "   average_consumption_month_before_the_upgrade  \\\n",
       "0                                          49.2   \n",
       "1                                          63.6   \n",
       "2                                          64.8   \n",
       "3                                          56.4   \n",
       "4                                          68.4   \n",
       "\n",
       "   average_consumption_first_month_after_upgrade  \\\n",
       "0                                             52   \n",
       "1                                             59   \n",
       "2                                             33   \n",
       "3                                             44   \n",
       "4                                             52   \n",
       "\n",
       "   average_consumption_second_month_after_upgrade  \n",
       "0                                            57.2  \n",
       "1                                            64.9  \n",
       "2                                            36.3  \n",
       "3                                            48.4  \n",
       "4                                            57.2  "
      ]
     },
     "execution_count": 4,
     "metadata": {},
     "output_type": "execute_result"
    }
   ],
   "source": [
    "#The head function returns the first 5 rows for the object based on position. \n",
    "#It is useful for quickly testing if your object has the right type of data in it.\n",
    "df.head()"
   ]
  },
  {
   "cell_type": "code",
   "execution_count": 5,
   "metadata": {},
   "outputs": [
    {
     "data": {
      "text/plain": [
       "Index(['client_id', 'gender', 'service_channel', 'region', 'marital_status',\n",
       "       'segment', 'average_monthly_consumption_before_upgrade',\n",
       "       'average_consumption_month_before_the_upgrade',\n",
       "       'average_consumption_first_month_after_upgrade',\n",
       "       'average_consumption_second_month_after_upgrade'],\n",
       "      dtype='object')"
      ]
     },
     "execution_count": 5,
     "metadata": {},
     "output_type": "execute_result"
    }
   ],
   "source": [
    "#The column labels of the DataFrame\n",
    "df.columns"
   ]
  },
  {
   "cell_type": "code",
   "execution_count": 6,
   "metadata": {},
   "outputs": [
    {
     "name": "stdout",
     "output_type": "stream",
     "text": [
      "<class 'pandas.core.frame.DataFrame'>\n",
      "RangeIndex: 200 entries, 0 to 199\n",
      "Data columns (total 10 columns):\n",
      " #   Column                                          Non-Null Count  Dtype  \n",
      "---  ------                                          --------------  -----  \n",
      " 0   client_id                                       200 non-null    int64  \n",
      " 1   gender                                          200 non-null    int64  \n",
      " 2   service_channel                                 200 non-null    int64  \n",
      " 3   region                                          200 non-null    int64  \n",
      " 4   marital_status                                  200 non-null    int64  \n",
      " 5   segment                                         200 non-null    int64  \n",
      " 6   average_monthly_consumption_before_upgrade      200 non-null    int64  \n",
      " 7   average_consumption_month_before_the_upgrade    200 non-null    float64\n",
      " 8   average_consumption_first_month_after_upgrade   200 non-null    int64  \n",
      " 9   average_consumption_second_month_after_upgrade  200 non-null    float64\n",
      "dtypes: float64(2), int64(8)\n",
      "memory usage: 15.8 KB\n"
     ]
    }
   ],
   "source": [
    "#This method prints information about a DataFrame including the index dtype and columns, non-null values and memory usage.\n",
    "df.info()"
   ]
  },
  {
   "cell_type": "code",
   "execution_count": 7,
   "metadata": {},
   "outputs": [
    {
     "data": {
      "text/html": [
       "<div>\n",
       "<style scoped>\n",
       "    .dataframe tbody tr th:only-of-type {\n",
       "        vertical-align: middle;\n",
       "    }\n",
       "\n",
       "    .dataframe tbody tr th {\n",
       "        vertical-align: top;\n",
       "    }\n",
       "\n",
       "    .dataframe thead th {\n",
       "        text-align: right;\n",
       "    }\n",
       "</style>\n",
       "<table border=\"1\" class=\"dataframe\">\n",
       "  <thead>\n",
       "    <tr style=\"text-align: right;\">\n",
       "      <th></th>\n",
       "      <th>client_id</th>\n",
       "      <th>gender</th>\n",
       "      <th>service_channel</th>\n",
       "      <th>region</th>\n",
       "      <th>marital_status</th>\n",
       "      <th>segment</th>\n",
       "      <th>average_monthly_consumption_before_upgrade</th>\n",
       "      <th>average_consumption_month_before_the_upgrade</th>\n",
       "      <th>average_consumption_first_month_after_upgrade</th>\n",
       "      <th>average_consumption_second_month_after_upgrade</th>\n",
       "    </tr>\n",
       "  </thead>\n",
       "  <tbody>\n",
       "    <tr>\n",
       "      <th>count</th>\n",
       "      <td>200.000000</td>\n",
       "      <td>200.00000</td>\n",
       "      <td>200.000000</td>\n",
       "      <td>200.000000</td>\n",
       "      <td>200.000000</td>\n",
       "      <td>200.000000</td>\n",
       "      <td>200.000000</td>\n",
       "      <td>200.000000</td>\n",
       "      <td>200.000000</td>\n",
       "      <td>200.000000</td>\n",
       "    </tr>\n",
       "    <tr>\n",
       "      <th>mean</th>\n",
       "      <td>100.500000</td>\n",
       "      <td>0.54500</td>\n",
       "      <td>3.430000</td>\n",
       "      <td>2.055000</td>\n",
       "      <td>1.160000</td>\n",
       "      <td>2.025000</td>\n",
       "      <td>52.230000</td>\n",
       "      <td>63.174000</td>\n",
       "      <td>52.775000</td>\n",
       "      <td>58.052500</td>\n",
       "    </tr>\n",
       "    <tr>\n",
       "      <th>std</th>\n",
       "      <td>57.879185</td>\n",
       "      <td>0.49922</td>\n",
       "      <td>1.039472</td>\n",
       "      <td>0.724291</td>\n",
       "      <td>0.367526</td>\n",
       "      <td>0.690477</td>\n",
       "      <td>10.252937</td>\n",
       "      <td>11.242137</td>\n",
       "      <td>9.478586</td>\n",
       "      <td>10.426445</td>\n",
       "    </tr>\n",
       "    <tr>\n",
       "      <th>min</th>\n",
       "      <td>1.000000</td>\n",
       "      <td>0.00000</td>\n",
       "      <td>1.000000</td>\n",
       "      <td>1.000000</td>\n",
       "      <td>1.000000</td>\n",
       "      <td>1.000000</td>\n",
       "      <td>28.000000</td>\n",
       "      <td>39.600000</td>\n",
       "      <td>31.000000</td>\n",
       "      <td>34.100000</td>\n",
       "    </tr>\n",
       "    <tr>\n",
       "      <th>25%</th>\n",
       "      <td>50.750000</td>\n",
       "      <td>0.00000</td>\n",
       "      <td>3.000000</td>\n",
       "      <td>2.000000</td>\n",
       "      <td>1.000000</td>\n",
       "      <td>2.000000</td>\n",
       "      <td>44.000000</td>\n",
       "      <td>54.000000</td>\n",
       "      <td>45.750000</td>\n",
       "      <td>50.325000</td>\n",
       "    </tr>\n",
       "    <tr>\n",
       "      <th>50%</th>\n",
       "      <td>100.500000</td>\n",
       "      <td>1.00000</td>\n",
       "      <td>4.000000</td>\n",
       "      <td>2.000000</td>\n",
       "      <td>1.000000</td>\n",
       "      <td>2.000000</td>\n",
       "      <td>50.000000</td>\n",
       "      <td>62.400000</td>\n",
       "      <td>54.000000</td>\n",
       "      <td>59.400000</td>\n",
       "    </tr>\n",
       "    <tr>\n",
       "      <th>75%</th>\n",
       "      <td>150.250000</td>\n",
       "      <td>1.00000</td>\n",
       "      <td>4.000000</td>\n",
       "      <td>3.000000</td>\n",
       "      <td>1.000000</td>\n",
       "      <td>2.250000</td>\n",
       "      <td>60.000000</td>\n",
       "      <td>70.800000</td>\n",
       "      <td>60.000000</td>\n",
       "      <td>66.000000</td>\n",
       "    </tr>\n",
       "    <tr>\n",
       "      <th>max</th>\n",
       "      <td>200.000000</td>\n",
       "      <td>1.00000</td>\n",
       "      <td>4.000000</td>\n",
       "      <td>3.000000</td>\n",
       "      <td>2.000000</td>\n",
       "      <td>3.000000</td>\n",
       "      <td>76.000000</td>\n",
       "      <td>90.000000</td>\n",
       "      <td>67.000000</td>\n",
       "      <td>73.700000</td>\n",
       "    </tr>\n",
       "  </tbody>\n",
       "</table>\n",
       "</div>"
      ],
      "text/plain": [
       "        client_id     gender  service_channel      region  marital_status  \\\n",
       "count  200.000000  200.00000       200.000000  200.000000      200.000000   \n",
       "mean   100.500000    0.54500         3.430000    2.055000        1.160000   \n",
       "std     57.879185    0.49922         1.039472    0.724291        0.367526   \n",
       "min      1.000000    0.00000         1.000000    1.000000        1.000000   \n",
       "25%     50.750000    0.00000         3.000000    2.000000        1.000000   \n",
       "50%    100.500000    1.00000         4.000000    2.000000        1.000000   \n",
       "75%    150.250000    1.00000         4.000000    3.000000        1.000000   \n",
       "max    200.000000    1.00000         4.000000    3.000000        2.000000   \n",
       "\n",
       "          segment  average_monthly_consumption_before_upgrade  \\\n",
       "count  200.000000                                  200.000000   \n",
       "mean     2.025000                                   52.230000   \n",
       "std      0.690477                                   10.252937   \n",
       "min      1.000000                                   28.000000   \n",
       "25%      2.000000                                   44.000000   \n",
       "50%      2.000000                                   50.000000   \n",
       "75%      2.250000                                   60.000000   \n",
       "max      3.000000                                   76.000000   \n",
       "\n",
       "       average_consumption_month_before_the_upgrade  \\\n",
       "count                                    200.000000   \n",
       "mean                                      63.174000   \n",
       "std                                       11.242137   \n",
       "min                                       39.600000   \n",
       "25%                                       54.000000   \n",
       "50%                                       62.400000   \n",
       "75%                                       70.800000   \n",
       "max                                       90.000000   \n",
       "\n",
       "       average_consumption_first_month_after_upgrade  \\\n",
       "count                                     200.000000   \n",
       "mean                                       52.775000   \n",
       "std                                         9.478586   \n",
       "min                                        31.000000   \n",
       "25%                                        45.750000   \n",
       "50%                                        54.000000   \n",
       "75%                                        60.000000   \n",
       "max                                        67.000000   \n",
       "\n",
       "       average_consumption_second_month_after_upgrade  \n",
       "count                                      200.000000  \n",
       "mean                                        58.052500  \n",
       "std                                         10.426445  \n",
       "min                                         34.100000  \n",
       "25%                                         50.325000  \n",
       "50%                                         59.400000  \n",
       "75%                                         66.000000  \n",
       "max                                         73.700000  "
      ]
     },
     "execution_count": 7,
     "metadata": {},
     "output_type": "execute_result"
    }
   ],
   "source": [
    "#Descriptive statistics include those that summarize the central tendency, dispersion and shape of a dataset’s distribution, \n",
    "#excluding NaN values.\n",
    "df.describe()"
   ]
  },
  {
   "cell_type": "markdown",
   "metadata": {},
   "source": [
    "## Question 1:\n",
    "\n",
    "Was the average bandwidth consumption for the month before the upgrade greater than 50?\n",
    "\n",
    "In this case, we will use a One-Sample t-Test.\n",
    "\n",
    "https://docs.scipy.org/doc/scipy/reference/generated/scipy.stats.ttest_1samp.html\n",
    "\n",
    "We calculated the T-Test for the mean of 1 group. This tests if the null hypothesis has an expected value (mean) of a sample of independent observations equal to the given population mean, popmean.\n",
    "\n",
    "hypothesis:\n",
    "\n",
    "- H0: The average bandwidth consumption before the upgrade was equal to 50.\n",
    "\n",
    "- H1: Average bandwidth consumption before the upgrade was greater than 50.\n",
    "\n",
    "If the p-value is less than 0.05, we reject H0. Otherwise, we fail to reject H0.\n",
    "\n",
    "If a p-value reported from a t-test is less than 0.05, that result is considered statistically significant. If a p-value is greater than 0.05, the result is insignificant."
   ]
  },
  {
   "cell_type": "code",
   "execution_count": 8,
   "metadata": {},
   "outputs": [
    {
     "data": {
      "text/plain": [
       "Ttest_1sampResult(statistic=16.57233752433133, pvalue=1.2481859640465792e-39)"
      ]
     },
     "execution_count": 8,
     "metadata": {},
     "output_type": "execute_result"
    }
   ],
   "source": [
    "# Run the t-Test\n",
    "stats.ttest_1samp(a = df.average_consumption_month_before_the_upgrade, popmean = 50, alternative='greater')"
   ]
  },
  {
   "cell_type": "markdown",
   "metadata": {},
   "source": [
    "As the p-value is very small (less than 0.05), we reject H0 and accept H1 because of sufficient evidence in the sample in favor of H1. The average bandwidth consumption before the upgrade was greater than 50."
   ]
  },
  {
   "cell_type": "code",
   "execution_count": 9,
   "metadata": {},
   "outputs": [
    {
     "data": {
      "text/plain": [
       "63.174"
      ]
     },
     "execution_count": 9,
     "metadata": {},
     "output_type": "execute_result"
    }
   ],
   "source": [
    "# Let's confirm this result\n",
    "df.average_consumption_month_before_the_upgrade.mean()"
   ]
  },
  {
   "cell_type": "markdown",
   "metadata": {},
   "source": [
    "## Question 2:\n",
    "\n",
    "Is bandwidth consumption different before and after the upgrade, considering the first month after the upgrade?\n",
    "\n",
    "In this case, we will use Two-Sample t-Test (Paired).\n",
    "\n",
    "https://docs.scipy.org/doc/scipy/reference/generated/scipy.stats.ttest_rel.html\n",
    "\n",
    "We use this test when we have two related or dependent samples. The test checks a null hypothesis that two related samples have an identical mean (expected)."
   ]
  },
  {
   "cell_type": "markdown",
   "metadata": {},
   "source": [
    "hypothesis:\n",
    "\n",
    "- H0: Consumption before the upgrade was equal to consumption after the upgrade (means are the same).\n",
    "- H1: Consumption before the upgrade differed from consumption after the upgrade (means are different).\n",
    "\n",
    "If the p-value is less than 0.05, we reject H0. Otherwise, we fail to reject H0."
   ]
  },
  {
   "cell_type": "code",
   "execution_count": 10,
   "metadata": {},
   "outputs": [
    {
     "data": {
      "text/plain": [
       "Ttest_relResult(statistic=-0.8673065458794775, pvalue=0.3868186820914985)"
      ]
     },
     "execution_count": 10,
     "metadata": {},
     "output_type": "execute_result"
    }
   ],
   "source": [
    "stats.ttest_rel(a = df.average_monthly_consumption_before_upgrade, b = df.average_consumption_first_month_after_upgrade)"
   ]
  },
  {
   "cell_type": "markdown",
   "metadata": {},
   "source": [
    "We fail to reject the null hypothesis because the p-value is greater than 0.05. Therefore, the average consumption in the first month after the upgrade was similar to the average consumption before the upgrade."
   ]
  },
  {
   "cell_type": "code",
   "execution_count": 11,
   "metadata": {},
   "outputs": [
    {
     "name": "stdout",
     "output_type": "stream",
     "text": [
      "52.23\n",
      "52.775\n"
     ]
    }
   ],
   "source": [
    "print(df.average_monthly_consumption_before_upgrade.mean())\n",
    "print(df.average_consumption_first_month_after_upgrade.mean())"
   ]
  },
  {
   "cell_type": "markdown",
   "metadata": {},
   "source": [
    "## Question 3:\n",
    "\n",
    "Did the customer's gender influence bandwidth consumption in the first month after the upgrade?\n",
    "\n",
    "In this case, we will use the Two Independent Samples t Test.\n",
    "\n",
    "https://docs.scipy.org/doc/scipy/reference/generated/scipy.stats.ttest_ind.html\n",
    "\n",
    "We calculated the t Test for the means of two independent samples. It is a test for the null hypothesis that two independent samples have an identical mean (expected) values. \n",
    "\n",
    "This test assumes that populations have equal variances by default. If the parameter equal_var is True (default), perform a standard independent 2 sample test that assumes equal population variances. If False, perform Welch’s t-test, which does not assume equal population variance."
   ]
  },
  {
   "cell_type": "markdown",
   "metadata": {},
   "source": [
    "hypothesis:\n",
    "\n",
    "- H0: Consumption by male customers was equal to consumption by female customers in the first month after the upgrade (average consumption was the same between genders).\n",
    "\n",
    "- H1: Consumption by male customers was not equal to consumption by female customers in the first month after the upgrade (average consumption was not equal between genders).\n",
    "\n",
    "If the p-value is less than 0.05, we reject H0. Otherwise, we fail to reject H0."
   ]
  },
  {
   "cell_type": "code",
   "execution_count": 12,
   "metadata": {},
   "outputs": [
    {
     "data": {
      "text/plain": [
       "Index(['client_id', 'gender', 'service_channel', 'region', 'marital_status',\n",
       "       'segment', 'average_monthly_consumption_before_upgrade',\n",
       "       'average_consumption_month_before_the_upgrade',\n",
       "       'average_consumption_first_month_after_upgrade',\n",
       "       'average_consumption_second_month_after_upgrade'],\n",
       "      dtype='object')"
      ]
     },
     "execution_count": 12,
     "metadata": {},
     "output_type": "execute_result"
    }
   ],
   "source": [
    "df.columns"
   ]
  },
  {
   "cell_type": "code",
   "execution_count": 13,
   "metadata": {},
   "outputs": [],
   "source": [
    "# Let's separate the samples by gender\n",
    "male_consumption = df.average_consumption_first_month_after_upgrade[df.gender == 0]\n",
    "female_consumption = df.average_consumption_first_month_after_upgrade[df.gender == 1]"
   ]
  },
  {
   "cell_type": "code",
   "execution_count": 14,
   "metadata": {},
   "outputs": [
    {
     "name": "stdout",
     "output_type": "stream",
     "text": [
      "0    52\n",
      "2    33\n",
      "3    44\n",
      "4    52\n",
      "5    52\n",
      "Name: average_consumption_first_month_after_upgrade, dtype: int64\n",
      "1     59\n",
      "92    62\n",
      "93    44\n",
      "94    44\n",
      "95    62\n",
      "Name: average_consumption_first_month_after_upgrade, dtype: int64\n"
     ]
    }
   ],
   "source": [
    "print(male_consumption.head())\n",
    "print(female_consumption.head())"
   ]
  },
  {
   "cell_type": "code",
   "execution_count": 15,
   "metadata": {},
   "outputs": [
    {
     "name": "stdout",
     "output_type": "stream",
     "text": [
      "50.120879120879124\n",
      "54.99082568807339\n"
     ]
    }
   ],
   "source": [
    "print(male_consumption.mean())\n",
    "print(female_consumption.mean())"
   ]
  },
  {
   "cell_type": "code",
   "execution_count": 16,
   "metadata": {},
   "outputs": [
    {
     "name": "stdout",
     "output_type": "stream",
     "text": [
      "106.196336996337\n",
      "66.15732246007475\n"
     ]
    }
   ],
   "source": [
    "print(male_consumption.var())\n",
    "print(female_consumption.var())"
   ]
  },
  {
   "cell_type": "code",
   "execution_count": 17,
   "metadata": {},
   "outputs": [
    {
     "data": {
      "text/plain": [
       "Ttest_indResult(statistic=-3.6564080478875276, pvalue=0.00034088493594266187)"
      ]
     },
     "execution_count": 17,
     "metadata": {},
     "output_type": "execute_result"
    }
   ],
   "source": [
    "#Perform Welch’s t-test,\n",
    "stats.ttest_ind(a = male_consumption, b = female_consumption, equal_var = False)"
   ]
  },
  {
   "cell_type": "code",
   "execution_count": 18,
   "metadata": {},
   "outputs": [
    {
     "data": {
      "text/plain": [
       "F_onewayResult(statistic=13.94330754080599, pvalue=0.0002462546120354903)"
      ]
     },
     "execution_count": 18,
     "metadata": {},
     "output_type": "execute_result"
    }
   ],
   "source": [
    "# We also can use ANOVA test\n",
    "stats.f_oneway(male_consumption, female_consumption)"
   ]
  },
  {
   "cell_type": "markdown",
   "metadata": {},
   "source": [
    "As the p-value is less than 0.05, we reject H0. Thus, we conclude that there was a difference between male and female bandwidth consumption in the first month after the upgrade."
   ]
  },
  {
   "cell_type": "markdown",
   "metadata": {},
   "source": [
    "## Question 4:\n",
    "\n",
    "Is there any relationship between the region and customer segment?\n",
    "\n",
    "In this case, we will use Chi-Square Test.\n",
    "\n",
    "https://docs.scipy.org/doc/scipy/reference/generated/scipy.stats.chi2_contingency.html\n",
    "\n",
    "We use the chi-square test of independence of variables in a contingency table. The function calculates the chi-square statistic and the p-value for testing the independence hypothesis of the observed frequencies in the contingency table. Expected frequencies are calculated based on marginal sums under the assumption of independence.\n",
    "\n",
    "Assumptions:\n",
    "\n",
    "- H0: There is no relationship between region and segment.\n",
    "- H1: There is a relationship between region and segment.\n",
    "\n",
    "If the p-value is less than 0.05, we reject H0. Otherwise, we fail to reject H0."
   ]
  },
  {
   "cell_type": "code",
   "execution_count": 19,
   "metadata": {},
   "outputs": [
    {
     "data": {
      "text/html": [
       "<div>\n",
       "<style scoped>\n",
       "    .dataframe tbody tr th:only-of-type {\n",
       "        vertical-align: middle;\n",
       "    }\n",
       "\n",
       "    .dataframe tbody tr th {\n",
       "        vertical-align: top;\n",
       "    }\n",
       "\n",
       "    .dataframe thead th {\n",
       "        text-align: right;\n",
       "    }\n",
       "</style>\n",
       "<table border=\"1\" class=\"dataframe\">\n",
       "  <thead>\n",
       "    <tr style=\"text-align: right;\">\n",
       "      <th></th>\n",
       "      <th>client_id</th>\n",
       "      <th>gender</th>\n",
       "      <th>service_channel</th>\n",
       "      <th>region</th>\n",
       "      <th>marital_status</th>\n",
       "      <th>segment</th>\n",
       "      <th>average_monthly_consumption_before_upgrade</th>\n",
       "      <th>average_consumption_month_before_the_upgrade</th>\n",
       "      <th>average_consumption_first_month_after_upgrade</th>\n",
       "      <th>average_consumption_second_month_after_upgrade</th>\n",
       "    </tr>\n",
       "  </thead>\n",
       "  <tbody>\n",
       "    <tr>\n",
       "      <th>0</th>\n",
       "      <td>70</td>\n",
       "      <td>0</td>\n",
       "      <td>4</td>\n",
       "      <td>1</td>\n",
       "      <td>1</td>\n",
       "      <td>1</td>\n",
       "      <td>57</td>\n",
       "      <td>49.2</td>\n",
       "      <td>52</td>\n",
       "      <td>57.2</td>\n",
       "    </tr>\n",
       "    <tr>\n",
       "      <th>1</th>\n",
       "      <td>121</td>\n",
       "      <td>1</td>\n",
       "      <td>4</td>\n",
       "      <td>2</td>\n",
       "      <td>1</td>\n",
       "      <td>3</td>\n",
       "      <td>68</td>\n",
       "      <td>63.6</td>\n",
       "      <td>59</td>\n",
       "      <td>64.9</td>\n",
       "    </tr>\n",
       "    <tr>\n",
       "      <th>2</th>\n",
       "      <td>86</td>\n",
       "      <td>0</td>\n",
       "      <td>4</td>\n",
       "      <td>3</td>\n",
       "      <td>1</td>\n",
       "      <td>1</td>\n",
       "      <td>44</td>\n",
       "      <td>64.8</td>\n",
       "      <td>33</td>\n",
       "      <td>36.3</td>\n",
       "    </tr>\n",
       "    <tr>\n",
       "      <th>3</th>\n",
       "      <td>141</td>\n",
       "      <td>0</td>\n",
       "      <td>4</td>\n",
       "      <td>3</td>\n",
       "      <td>1</td>\n",
       "      <td>3</td>\n",
       "      <td>63</td>\n",
       "      <td>56.4</td>\n",
       "      <td>44</td>\n",
       "      <td>48.4</td>\n",
       "    </tr>\n",
       "    <tr>\n",
       "      <th>4</th>\n",
       "      <td>172</td>\n",
       "      <td>0</td>\n",
       "      <td>4</td>\n",
       "      <td>2</td>\n",
       "      <td>1</td>\n",
       "      <td>2</td>\n",
       "      <td>47</td>\n",
       "      <td>68.4</td>\n",
       "      <td>52</td>\n",
       "      <td>57.2</td>\n",
       "    </tr>\n",
       "  </tbody>\n",
       "</table>\n",
       "</div>"
      ],
      "text/plain": [
       "   client_id  gender  service_channel  region  marital_status  segment  \\\n",
       "0         70       0                4       1               1        1   \n",
       "1        121       1                4       2               1        3   \n",
       "2         86       0                4       3               1        1   \n",
       "3        141       0                4       3               1        3   \n",
       "4        172       0                4       2               1        2   \n",
       "\n",
       "   average_monthly_consumption_before_upgrade  \\\n",
       "0                                          57   \n",
       "1                                          68   \n",
       "2                                          44   \n",
       "3                                          63   \n",
       "4                                          47   \n",
       "\n",
       "   average_consumption_month_before_the_upgrade  \\\n",
       "0                                          49.2   \n",
       "1                                          63.6   \n",
       "2                                          64.8   \n",
       "3                                          56.4   \n",
       "4                                          68.4   \n",
       "\n",
       "   average_consumption_first_month_after_upgrade  \\\n",
       "0                                             52   \n",
       "1                                             59   \n",
       "2                                             33   \n",
       "3                                             44   \n",
       "4                                             52   \n",
       "\n",
       "   average_consumption_second_month_after_upgrade  \n",
       "0                                            57.2  \n",
       "1                                            64.9  \n",
       "2                                            36.3  \n",
       "3                                            48.4  \n",
       "4                                            57.2  "
      ]
     },
     "execution_count": 19,
     "metadata": {},
     "output_type": "execute_result"
    }
   ],
   "source": [
    "df.head()"
   ]
  },
  {
   "cell_type": "code",
   "execution_count": 20,
   "metadata": {},
   "outputs": [
    {
     "data": {
      "text/html": [
       "<div>\n",
       "<style scoped>\n",
       "    .dataframe tbody tr th:only-of-type {\n",
       "        vertical-align: middle;\n",
       "    }\n",
       "\n",
       "    .dataframe tbody tr th {\n",
       "        vertical-align: top;\n",
       "    }\n",
       "\n",
       "    .dataframe thead th {\n",
       "        text-align: right;\n",
       "    }\n",
       "</style>\n",
       "<table border=\"1\" class=\"dataframe\">\n",
       "  <thead>\n",
       "    <tr style=\"text-align: right;\">\n",
       "      <th>region</th>\n",
       "      <th>1</th>\n",
       "      <th>2</th>\n",
       "      <th>3</th>\n",
       "      <th>All</th>\n",
       "    </tr>\n",
       "    <tr>\n",
       "      <th>segment</th>\n",
       "      <th></th>\n",
       "      <th></th>\n",
       "      <th></th>\n",
       "      <th></th>\n",
       "    </tr>\n",
       "  </thead>\n",
       "  <tbody>\n",
       "    <tr>\n",
       "      <th>1</th>\n",
       "      <td>16</td>\n",
       "      <td>20</td>\n",
       "      <td>9</td>\n",
       "      <td>45</td>\n",
       "    </tr>\n",
       "    <tr>\n",
       "      <th>2</th>\n",
       "      <td>19</td>\n",
       "      <td>44</td>\n",
       "      <td>42</td>\n",
       "      <td>105</td>\n",
       "    </tr>\n",
       "    <tr>\n",
       "      <th>3</th>\n",
       "      <td>12</td>\n",
       "      <td>31</td>\n",
       "      <td>7</td>\n",
       "      <td>50</td>\n",
       "    </tr>\n",
       "    <tr>\n",
       "      <th>All</th>\n",
       "      <td>47</td>\n",
       "      <td>95</td>\n",
       "      <td>58</td>\n",
       "      <td>200</td>\n",
       "    </tr>\n",
       "  </tbody>\n",
       "</table>\n",
       "</div>"
      ],
      "text/plain": [
       "region    1   2   3  All\n",
       "segment                 \n",
       "1        16  20   9   45\n",
       "2        19  44  42  105\n",
       "3        12  31   7   50\n",
       "All      47  95  58  200"
      ]
     },
     "execution_count": 20,
     "metadata": {},
     "output_type": "execute_result"
    }
   ],
   "source": [
    "# Contingence table\n",
    "cont_table = pd.crosstab(df.segment, df.region, margins = True)\n",
    "cont_table"
   ]
  },
  {
   "cell_type": "code",
   "execution_count": 21,
   "metadata": {},
   "outputs": [],
   "source": [
    "# Chi-Square Test execution\n",
    "chi2, p, dof, ex = stats.chi2_contingency(observed = cont_table)"
   ]
  },
  {
   "cell_type": "code",
   "execution_count": 22,
   "metadata": {},
   "outputs": [
    {
     "data": {
      "text/plain": [
       "0.055282939487992365"
      ]
     },
     "execution_count": 22,
     "metadata": {},
     "output_type": "execute_result"
    }
   ],
   "source": [
    "# p-value\n",
    "p"
   ]
  },
  {
   "cell_type": "markdown",
   "metadata": {},
   "source": [
    "Based on a p-value greater than 0.05, we fail to reject H0, and we can say there is no relationship between the categorical variables region and segment."
   ]
  }
 ],
 "metadata": {
  "kernelspec": {
   "display_name": "Python 3 (ipykernel)",
   "language": "python",
   "name": "python3"
  },
  "language_info": {
   "codemirror_mode": {
    "name": "ipython",
    "version": 3
   },
   "file_extension": ".py",
   "mimetype": "text/x-python",
   "name": "python",
   "nbconvert_exporter": "python",
   "pygments_lexer": "ipython3",
   "version": "3.10.1"
  }
 },
 "nbformat": 4,
 "nbformat_minor": 1
}
